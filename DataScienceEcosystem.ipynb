{
 "cells": [
  {
   "cell_type": "markdown",
   "id": "20da0b03-e31c-4c3b-871c-041f58b90f35",
   "metadata": {},
   "source": [
    "# Data Science Tools and Ecosystem"
   ]
  },
  {
   "cell_type": "markdown",
   "id": "35abf197-16fc-449a-a8d3-77aed15d528b",
   "metadata": {},
   "source": [
    "## Author Jon Grahe"
   ]
  },
  {
   "cell_type": "markdown",
   "id": "eadec571-664f-4980-a2a6-d73b7c56af14",
   "metadata": {},
   "source": [
    "### In the notebook, Data Science Tools and Ecosystem are summarized"
   ]
  },
  {
   "cell_type": "markdown",
   "id": "eab5217a-cb5a-494b-82c1-9005c9af4f4d",
   "metadata": {},
   "source": [
    "**Objectives**\n",
    "  \n",
    "+ create notebook\n",
    "+ adjust font with headers\n",
    "+ adjust font with bold\n",
    "+ create new cells\n",
    "+ save and share files"
   ]
  },
  {
   "cell_type": "markdown",
   "id": "df7d9de8-974c-44ca-af49-57d0cbbc5877",
   "metadata": {},
   "source": [
    "#### Some of the popular languages that Data Scientists use are:\n",
    "1. Python\n",
    "2. SQL\n",
    "3. R\n"
   ]
  },
  {
   "cell_type": "markdown",
   "id": "b654f201-946b-4f3a-a838-88110fcae3ee",
   "metadata": {},
   "source": [
    "### Some of the commonly used libraries used by Data Scientists include: \n",
    "1. Pandas\n",
    "2. Numpy\n",
    "3. TensorFlow"
   ]
  },
  {
   "cell_type": "markdown",
   "id": "8842060a-82fe-4da6-83bd-d131477f60fb",
   "metadata": {},
   "source": [
    "|Data Science Tools|\n",
    "|-------------|\n",
    "|Anaconda|\n",
    "|R-Studio|\n",
    "|Jupytor Notebook|\n"
   ]
  },
  {
   "cell_type": "markdown",
   "id": "6d702cfc-6b4f-4fa9-bb46-86a3dccf395a",
   "metadata": {},
   "source": [
    "### Below are a few examples of evaluating arithmetic exressions in Python"
   ]
  },
  {
   "cell_type": "markdown",
   "id": "613308e5-e7ba-4f1e-89f1-dbde2e3612ad",
   "metadata": {},
   "source": [
    "#This is a simple artihmetic expression to multiple then add integers\n",
    "\n",
    "(3*4)+5\n"
   ]
  },
  {
   "cell_type": "code",
   "execution_count": 39,
   "id": "c39c5f08-725d-488a-a7ff-eafe40c9ae9d",
   "metadata": {},
   "outputs": [
    {
     "data": {
      "text/plain": [
       "3.3333333333333335"
      ]
     },
     "execution_count": 39,
     "metadata": {},
     "output_type": "execute_result"
    }
   ],
   "source": [
    "#This will convert 200 minutes to hours by dividing by 60\n",
    "\n",
    " #minutes/hours = 200/60\n",
    "\n",
    " \n",
    "200/60"
   ]
  },
  {
   "cell_type": "code",
   "execution_count": null,
   "id": "dd4596b1-dabf-4150-a7a4-50bdf503532a",
   "metadata": {},
   "outputs": [],
   "source": []
  }
 ],
 "metadata": {
  "kernelspec": {
   "display_name": "Python 3 (ipykernel)",
   "language": "python",
   "name": "python3"
  },
  "language_info": {
   "codemirror_mode": {
    "name": "ipython",
    "version": 3
   },
   "file_extension": ".py",
   "mimetype": "text/x-python",
   "name": "python",
   "nbconvert_exporter": "python",
   "pygments_lexer": "ipython3",
   "version": "3.11.7"
  }
 },
 "nbformat": 4,
 "nbformat_minor": 5
}
